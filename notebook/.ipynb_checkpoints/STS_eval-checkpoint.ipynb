{
 "cells": [
  {
   "cell_type": "code",
   "execution_count": 1,
   "metadata": {},
   "outputs": [],
   "source": [
    "import senteval\n",
    "import pandas as pd\n",
    "import numpy as np\n",
    "from sentence_transformers import SentenceTransformer, models, util\n",
    "from glob import glob\n",
    "from tqdm import tqdm"
   ]
  },
  {
   "cell_type": "code",
   "execution_count": 2,
   "metadata": {},
   "outputs": [],
   "source": [
    "# SentEval prepare and batcher\n",
    "def prepare(params, samples):\n",
    "    return\n",
    "\n",
    "def batcher(params, batch):\n",
    "    batch = [' '.join(sent) if sent != [] else '.' for sent in batch]\n",
    "    embeddings = params['encoder'](batch)\n",
    "    return embeddings"
   ]
  },
  {
   "cell_type": "code",
   "execution_count": 3,
   "metadata": {},
   "outputs": [],
   "source": [
    "model_list = ['mrp/SCT_BERT_Base','mrp/SCT_BERT_Tiny']"
   ]
  },
  {
   "cell_type": "code",
   "execution_count": 8,
   "metadata": {
    "scrolled": true
   },
   "outputs": [
    {
     "name": "stderr",
     "output_type": "stream",
     "text": [
      "\r",
      "  0%|          | 0/2 [00:00<?, ?it/s]"
     ]
    },
    {
     "name": "stdout",
     "output_type": "stream",
     "text": [
      "Model:mrp/SCT_BERT_Base\n"
     ]
    },
    {
     "name": "stderr",
     "output_type": "stream",
     "text": [
      "WARNING:sentence_transformers.SentenceTransformer:You try to use a model that was created with version 2.1.0, however, your version is 1.0.0. This might cause unexpected behavior or errors. In that case, try to update to the latest version.\n",
      "\n",
      "\n",
      "\n",
      " 50%|█████     | 1/2 [00:59<00:59, 59.52s/it]"
     ]
    },
    {
     "name": "stdout",
     "output_type": "stream",
     "text": [
      "STS12\n",
      "Spearman:73.82\n",
      "STS13\n",
      "Spearman:78.02\n",
      "STS14\n",
      "Spearman:72.64\n",
      "STS15\n",
      "Spearman:82.42\n",
      "STS16\n",
      "Spearman:76.12\n",
      "STSBenchmark\n",
      "Spearman:76.91\n",
      "SICKRelatedness\n",
      "Spearman:68.89\n",
      "Avg:75.55\n",
      "**************************************************\n",
      "Model:mrp/SCT_BERT_Tiny\n"
     ]
    },
    {
     "name": "stderr",
     "output_type": "stream",
     "text": [
      "WARNING:sentence_transformers.SentenceTransformer:You try to use a model that was created with version 2.1.0, however, your version is 1.0.0. This might cause unexpected behavior or errors. In that case, try to update to the latest version.\n",
      "\n",
      "\n",
      "\n",
      "100%|██████████| 2/2 [01:27<00:00, 43.98s/it]"
     ]
    },
    {
     "name": "stdout",
     "output_type": "stream",
     "text": [
      "STS12\n",
      "Spearman:70.67\n",
      "STS13\n",
      "Spearman:66.68\n",
      "STS14\n",
      "Spearman:66.76\n",
      "STS15\n",
      "Spearman:77.66\n",
      "STS16\n",
      "Spearman:70.62\n",
      "STSBenchmark\n",
      "Spearman:71.79\n",
      "SICKRelatedness\n",
      "Spearman:63.95\n",
      "Avg:69.73\n",
      "**************************************************\n"
     ]
    },
    {
     "name": "stderr",
     "output_type": "stream",
     "text": [
      "\n"
     ]
    }
   ],
   "source": [
    "for model in tqdm(model_list[:]):\n",
    "    print(f\"Model:{model}\")\n",
    "    sim_cse = SentenceTransformer(model)\n",
    "\n",
    "    params = {'task_path': '../SentEval/data/', 'usepytorch': True, 'kfold': 10}\n",
    "    params['encoder'] = sim_cse.encode\n",
    "    se = senteval.engine.SE(params, batcher, prepare)\n",
    "\n",
    "    transfer_tasks = ['STS12', 'STS13', 'STS14', 'STS15', 'STS16', 'STSBenchmark', 'SICKRelatedness']\n",
    "    results = se.eval(transfer_tasks)\n",
    "\n",
    "    spearman_val = 0\n",
    "    for key in results.keys():\n",
    "        print(key)\n",
    "        if key not  in ['STSBenchmark','SICKRelatedness']:\n",
    "            result_temp = results[key]['all']['spearman']['all']\n",
    "            spearman_val+=result_temp\n",
    "        else:\n",
    "            result_temp = results[key]['test']['spearman'].correlation\n",
    "            spearman_val+=result_temp\n",
    "        print(f\"Spearman:{result_temp*100:.2f}\")\n",
    "    avg_score = round(spearman_val/len(results.keys())*100,2)\n",
    "    print(f\"Avg:{avg_score}\")\n",
    "    print(f\"*\"*50)"
   ]
  },
  {
   "cell_type": "code",
   "execution_count": null,
   "metadata": {},
   "outputs": [],
   "source": []
  }
 ],
 "metadata": {
  "kernelspec": {
   "display_name": "Python 3",
   "language": "python",
   "name": "python3"
  },
  "language_info": {
   "codemirror_mode": {
    "name": "ipython",
    "version": 3
   },
   "file_extension": ".py",
   "mimetype": "text/x-python",
   "name": "python",
   "nbconvert_exporter": "python",
   "pygments_lexer": "ipython3",
   "version": "3.6.9"
  }
 },
 "nbformat": 4,
 "nbformat_minor": 2
}
